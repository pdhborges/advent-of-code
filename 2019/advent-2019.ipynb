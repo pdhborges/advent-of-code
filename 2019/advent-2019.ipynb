{
 "cells": [
  {
   "cell_type": "markdown",
   "metadata": {},
   "source": [
    "# Advent of Code 2019"
   ]
  },
  {
   "cell_type": "markdown",
   "metadata": {},
   "source": [
    "## Utils"
   ]
  },
  {
   "cell_type": "code",
   "execution_count": 45,
   "metadata": {},
   "outputs": [],
   "source": [
    "import os.path\n",
    "from itertools import product\n",
    "\n",
    "def read_lines(day):\n",
    "    filename = os.path.join('input', str(day) + '.txt')\n",
    "    with open(filename) as f:\n",
    "        return list(f)"
   ]
  },
  {
   "cell_type": "markdown",
   "metadata": {},
   "source": [
    "## Day 1: The Tyranny of the Rocket Equation"
   ]
  },
  {
   "cell_type": "code",
   "execution_count": 9,
   "metadata": {},
   "outputs": [],
   "source": [
    "def fuel(mass):\n",
    "    return mass // 3 - 2"
   ]
  },
  {
   "cell_type": "code",
   "execution_count": 11,
   "metadata": {},
   "outputs": [],
   "source": [
    "masses = list(map(int, read_lines(1)))"
   ]
  },
  {
   "cell_type": "code",
   "execution_count": 14,
   "metadata": {},
   "outputs": [
    {
     "name": "stdout",
     "output_type": "stream",
     "text": [
      "Day 1.1: 3270338\n"
     ]
    }
   ],
   "source": [
    "print('Day 1.1:', sum(map(fuel, masses)))"
   ]
  },
  {
   "cell_type": "code",
   "execution_count": 29,
   "metadata": {},
   "outputs": [],
   "source": [
    "def total_fuel(mass):\n",
    "    total = 0\n",
    "    while mass // 3 > 2:\n",
    "        mass = mass // 3 - 2\n",
    "        total += mass\n",
    "    return total"
   ]
  },
  {
   "cell_type": "code",
   "execution_count": 30,
   "metadata": {},
   "outputs": [
    {
     "name": "stdout",
     "output_type": "stream",
     "text": [
      "Day 1.2: 4902650\n"
     ]
    }
   ],
   "source": [
    "print('Day 1.2:', sum(map(total_fuel, masses)))"
   ]
  },
  {
   "cell_type": "markdown",
   "metadata": {},
   "source": [
    "# Day 2: 1202 Program Alarm"
   ]
  },
  {
   "cell_type": "code",
   "execution_count": 27,
   "metadata": {},
   "outputs": [],
   "source": [
    "program = list(map(int, read_lines(2)[0].rstrip().split(',')))"
   ]
  },
  {
   "cell_type": "code",
   "execution_count": 28,
   "metadata": {},
   "outputs": [],
   "source": [
    "def run_program(noun, verb, p):\n",
    "    p = p[:]\n",
    "    p[1] = noun\n",
    "    p[2] = verb\n",
    "    pc = 0\n",
    "    while p[pc] != 99:\n",
    "        if p[pc] == 1:\n",
    "            p[p[pc + 3]] = p[p[pc + 1]] + p[p[pc + 2]]\n",
    "        elif p[pc] == 2:\n",
    "            p[p[pc + 3]] = p[p[pc + 1]] * p[p[pc + 2]]\n",
    "        pc += 4\n",
    "    return p[0]"
   ]
  },
  {
   "cell_type": "code",
   "execution_count": 38,
   "metadata": {},
   "outputs": [
    {
     "name": "stdout",
     "output_type": "stream",
     "text": [
      "Day 2.1: 3101844\n"
     ]
    }
   ],
   "source": [
    "print('Day 2.1:', run_program(12, 2, program))"
   ]
  },
  {
   "cell_type": "code",
   "execution_count": 48,
   "metadata": {},
   "outputs": [],
   "source": [
    "def find_output(p, output):\n",
    "    for noun, verb in product(range(0, 100), range(0, 100)):\n",
    "        if run_program(noun, verb, p[:]) == output:\n",
    "            return noun, verb"
   ]
  },
  {
   "cell_type": "code",
   "execution_count": 51,
   "metadata": {},
   "outputs": [
    {
     "name": "stdout",
     "output_type": "stream",
     "text": [
      "Day 2.2: 8478\n"
     ]
    }
   ],
   "source": [
    "noun, verb = find_output(program, 19690720)\n",
    "print('Day 2.2:', 100 * noun + verb)"
   ]
  },
  {
   "cell_type": "code",
   "execution_count": null,
   "metadata": {},
   "outputs": [],
   "source": []
  }
 ],
 "metadata": {
  "kernelspec": {
   "display_name": "Python 3",
   "language": "python",
   "name": "python3"
  },
  "language_info": {
   "codemirror_mode": {
    "name": "ipython",
    "version": 3
   },
   "file_extension": ".py",
   "mimetype": "text/x-python",
   "name": "python",
   "nbconvert_exporter": "python",
   "pygments_lexer": "ipython3",
   "version": "3.7.1"
  }
 },
 "nbformat": 4,
 "nbformat_minor": 2
}
