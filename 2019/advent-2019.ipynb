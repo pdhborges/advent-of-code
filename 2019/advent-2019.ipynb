{
 "cells": [
  {
   "cell_type": "markdown",
   "metadata": {},
   "source": [
    "# Advent of Code 2019"
   ]
  },
  {
   "cell_type": "markdown",
   "metadata": {},
   "source": [
    "## Utils"
   ]
  },
  {
   "cell_type": "code",
   "execution_count": 19,
   "metadata": {},
   "outputs": [],
   "source": [
    "import os.path\n",
    "from itertools import product\n",
    "from collections import defaultdict, Counter\n",
    "\n",
    "def read_lines(day):\n",
    "    filename = os.path.join('input', str(day) + '.txt')\n",
    "    with open(filename) as f:\n",
    "        return list(map(str.strip, f))"
   ]
  },
  {
   "cell_type": "markdown",
   "metadata": {},
   "source": [
    "## Day 1: The Tyranny of the Rocket Equation"
   ]
  },
  {
   "cell_type": "code",
   "execution_count": 9,
   "metadata": {},
   "outputs": [],
   "source": [
    "def fuel(mass):\n",
    "    return mass // 3 - 2"
   ]
  },
  {
   "cell_type": "code",
   "execution_count": 11,
   "metadata": {},
   "outputs": [],
   "source": [
    "masses = list(map(int, read_lines(1)))"
   ]
  },
  {
   "cell_type": "code",
   "execution_count": 14,
   "metadata": {},
   "outputs": [
    {
     "name": "stdout",
     "output_type": "stream",
     "text": [
      "Day 1.1: 3270338\n"
     ]
    }
   ],
   "source": [
    "print('Day 1.1:', sum(map(fuel, masses)))"
   ]
  },
  {
   "cell_type": "code",
   "execution_count": 29,
   "metadata": {},
   "outputs": [],
   "source": [
    "def total_fuel(mass):\n",
    "    total = 0\n",
    "    while mass // 3 > 2:\n",
    "        mass = mass // 3 - 2\n",
    "        total += mass\n",
    "    return total"
   ]
  },
  {
   "cell_type": "code",
   "execution_count": 30,
   "metadata": {},
   "outputs": [
    {
     "name": "stdout",
     "output_type": "stream",
     "text": [
      "Day 1.2: 4902650\n"
     ]
    }
   ],
   "source": [
    "print('Day 1.2:', sum(map(total_fuel, masses)))"
   ]
  },
  {
   "cell_type": "markdown",
   "metadata": {},
   "source": [
    "# Day 2: 1202 Program Alarm"
   ]
  },
  {
   "cell_type": "code",
   "execution_count": 27,
   "metadata": {},
   "outputs": [],
   "source": [
    "program = list(map(int, read_lines(2)[0].rstrip().split(',')))"
   ]
  },
  {
   "cell_type": "code",
   "execution_count": 28,
   "metadata": {},
   "outputs": [],
   "source": [
    "def run_program(noun, verb, p):\n",
    "    p = p[:]\n",
    "    p[1] = noun\n",
    "    p[2] = verb\n",
    "    pc = 0\n",
    "    while p[pc] != 99:\n",
    "        if p[pc] == 1:\n",
    "            p[p[pc + 3]] = p[p[pc + 1]] + p[p[pc + 2]]\n",
    "        elif p[pc] == 2:\n",
    "            p[p[pc + 3]] = p[p[pc + 1]] * p[p[pc + 2]]\n",
    "        pc += 4\n",
    "    return p[0]"
   ]
  },
  {
   "cell_type": "code",
   "execution_count": 38,
   "metadata": {},
   "outputs": [
    {
     "name": "stdout",
     "output_type": "stream",
     "text": [
      "Day 2.1: 3101844\n"
     ]
    }
   ],
   "source": [
    "print('Day 2.1:', run_program(12, 2, program))"
   ]
  },
  {
   "cell_type": "code",
   "execution_count": 48,
   "metadata": {},
   "outputs": [],
   "source": [
    "def find_output(p, output):\n",
    "    for noun, verb in product(range(0, 100), range(0, 100)):\n",
    "        if run_program(noun, verb, p[:]) == output:\n",
    "            return noun, verb"
   ]
  },
  {
   "cell_type": "code",
   "execution_count": 51,
   "metadata": {},
   "outputs": [
    {
     "name": "stdout",
     "output_type": "stream",
     "text": [
      "Day 2.2: 8478\n"
     ]
    }
   ],
   "source": [
    "noun, verb = find_output(program, 19690720)\n",
    "print('Day 2.2:', 100 * noun + verb)"
   ]
  },
  {
   "cell_type": "markdown",
   "metadata": {},
   "source": [
    "# Day 3: Crossed Wires"
   ]
  },
  {
   "cell_type": "code",
   "execution_count": 56,
   "metadata": {},
   "outputs": [],
   "source": [
    "wire_paths = [line.split(',') for line in read_lines(3)]"
   ]
  },
  {
   "cell_type": "code",
   "execution_count": 57,
   "metadata": {},
   "outputs": [],
   "source": [
    "def walk_path(path):\n",
    "    \n",
    "    DIRECTIONS_MOVE = {\n",
    "        'R' : -1,\n",
    "        'L' : 1,\n",
    "        'U' : 1j,\n",
    "        'D' : -1j\n",
    "    }\n",
    "    \n",
    "    start = 0j\n",
    "    for segment in path:\n",
    "        direction = segment[0]\n",
    "        nsteps = int(segment[1:])\n",
    "        for _ in range(nsteps):\n",
    "            start += DIRECTIONS_MOVE[direction]\n",
    "            yield start"
   ]
  },
  {
   "cell_type": "code",
   "execution_count": 58,
   "metadata": {},
   "outputs": [],
   "source": [
    "def manhattam(p1, p2):\n",
    "    diff = p1 - p2\n",
    "    return abs(diff.imag) + abs(diff.real)"
   ]
  },
  {
   "cell_type": "code",
   "execution_count": 59,
   "metadata": {},
   "outputs": [],
   "source": [
    "def intersections(path1, path2):\n",
    "    hits = defaultdict(set)\n",
    "    for c1 in path1:\n",
    "        hits[c1].add(1)\n",
    "    for c2 in path2:\n",
    "        hits[c2].add(2)\n",
    "    return [coordinate for coordinate, hit in hits.items() if len(hit) == 2]"
   ]
  },
  {
   "cell_type": "code",
   "execution_count": 60,
   "metadata": {},
   "outputs": [],
   "source": [
    "closest_intersection = min(manhattam(0j, i) for i in intersections(walk_path(wire_paths[0]), walk_path(wire_paths[1])))"
   ]
  },
  {
   "cell_type": "code",
   "execution_count": 61,
   "metadata": {},
   "outputs": [
    {
     "name": "stdout",
     "output_type": "stream",
     "text": [
      "Day 3.1: 806.0\n"
     ]
    }
   ],
   "source": [
    "print('Day 3.1:', closest_intersection)"
   ]
  },
  {
   "cell_type": "code",
   "execution_count": 69,
   "metadata": {},
   "outputs": [],
   "source": [
    "def intersection_steps(path1, path2):\n",
    "    hits = defaultdict(dict)\n",
    "    for i, c1 in enumerate(path1):\n",
    "        if 1 not in hits[c1]:\n",
    "            hits[c1][1] = i + 1\n",
    "    for i, c2 in enumerate(path2):\n",
    "        if 2 not in hits[c2]:\n",
    "            hits[c2][2] = i + 1\n",
    "    return [(hit[1], hit[2]) for hit in hits.values() if len(hit) == 2]"
   ]
  },
  {
   "cell_type": "code",
   "execution_count": 70,
   "metadata": {},
   "outputs": [],
   "source": [
    "closest_delay = min(steps1 + steps2 for steps1, steps2 in intersection_steps(walk_path(wire_paths[0]), walk_path(wire_paths[1])))"
   ]
  },
  {
   "cell_type": "code",
   "execution_count": 72,
   "metadata": {},
   "outputs": [
    {
     "name": "stdout",
     "output_type": "stream",
     "text": [
      "Day 3.2: 66076\n"
     ]
    }
   ],
   "source": [
    "print('Day 3.2:', closest_delay)"
   ]
  },
  {
   "cell_type": "markdown",
   "metadata": {},
   "source": [
    "# Day 4: Secure Container"
   ]
  },
  {
   "cell_type": "code",
   "execution_count": 1,
   "metadata": {},
   "outputs": [],
   "source": [
    "start, end = 359282, 820401"
   ]
  },
  {
   "cell_type": "code",
   "execution_count": 2,
   "metadata": {},
   "outputs": [],
   "source": [
    "def increasing(str_num):\n",
    "    for i in range(len(str_num) - 1):\n",
    "        if str_num[i] > str_num[i + 1]:\n",
    "            return False\n",
    "    return True"
   ]
  },
  {
   "cell_type": "code",
   "execution_count": 6,
   "metadata": {},
   "outputs": [],
   "source": [
    "def consecutives(str_num):\n",
    "    for i in range(len(str_num) - 1):\n",
    "        if str_num[i] == str_num[i + 1]:\n",
    "            return True\n",
    "    return False"
   ]
  },
  {
   "cell_type": "code",
   "execution_count": 10,
   "metadata": {},
   "outputs": [],
   "source": [
    "num_candidate_passwords = sum(increasing(str(num)) and consecutives(str(num)) for num in range(start, end + 1))"
   ]
  },
  {
   "cell_type": "code",
   "execution_count": 11,
   "metadata": {},
   "outputs": [
    {
     "name": "stdout",
     "output_type": "stream",
     "text": [
      "Day 4.1: 511\n"
     ]
    }
   ],
   "source": [
    "print('Day 4.1:', num_candidate_passwords)"
   ]
  },
  {
   "cell_type": "code",
   "execution_count": 21,
   "metadata": {},
   "outputs": [],
   "source": [
    "def consecutive_pair(str_num):\n",
    "    c = Counter(str_num)\n",
    "    return any(count == 2 for digit, count in c.items())"
   ]
  },
  {
   "cell_type": "code",
   "execution_count": 25,
   "metadata": {},
   "outputs": [],
   "source": [
    "num_candidate_passwords = sum(increasing(str(num)) and consecutive_pair(str(num)) for num in range(start, end + 1))"
   ]
  },
  {
   "cell_type": "code",
   "execution_count": 27,
   "metadata": {},
   "outputs": [
    {
     "name": "stdout",
     "output_type": "stream",
     "text": [
      "Day 4.2: 316\n"
     ]
    }
   ],
   "source": [
    "print('Day 4.2:', num_candidate_passwords)"
   ]
  },
  {
   "cell_type": "code",
   "execution_count": null,
   "metadata": {},
   "outputs": [],
   "source": []
  }
 ],
 "metadata": {
  "kernelspec": {
   "display_name": "Python 3",
   "language": "python",
   "name": "python3"
  },
  "language_info": {
   "codemirror_mode": {
    "name": "ipython",
    "version": 3
   },
   "file_extension": ".py",
   "mimetype": "text/x-python",
   "name": "python",
   "nbconvert_exporter": "python",
   "pygments_lexer": "ipython3",
   "version": "3.7.1"
  }
 },
 "nbformat": 4,
 "nbformat_minor": 2
}
