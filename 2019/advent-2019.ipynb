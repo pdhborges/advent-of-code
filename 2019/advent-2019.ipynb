{
 "cells": [
  {
   "cell_type": "markdown",
   "metadata": {},
   "source": [
    "# Advent of Code 2019"
   ]
  },
  {
   "cell_type": "markdown",
   "metadata": {},
   "source": [
    "## Utils"
   ]
  },
  {
   "cell_type": "code",
   "execution_count": 47,
   "metadata": {},
   "outputs": [],
   "source": [
    "import os.path\n",
    "from itertools import product\n",
    "from collections import defaultdict, Counter, deque\n",
    "import operator\n",
    "\n",
    "def read_lines(day):\n",
    "    filename = os.path.join('input', str(day) + '.txt')\n",
    "    with open(filename) as f:\n",
    "        return list(map(str.strip, f))"
   ]
  },
  {
   "cell_type": "markdown",
   "metadata": {},
   "source": [
    "## Day 1: The Tyranny of the Rocket Equation"
   ]
  },
  {
   "cell_type": "code",
   "execution_count": 4,
   "metadata": {},
   "outputs": [],
   "source": [
    "def fuel(mass):\n",
    "    return mass // 3 - 2"
   ]
  },
  {
   "cell_type": "code",
   "execution_count": 11,
   "metadata": {},
   "outputs": [],
   "source": [
    "masses = list(map(int, read_lines(1)))"
   ]
  },
  {
   "cell_type": "code",
   "execution_count": 14,
   "metadata": {},
   "outputs": [
    {
     "name": "stdout",
     "output_type": "stream",
     "text": [
      "Day 1.1: 3270338\n"
     ]
    }
   ],
   "source": [
    "print('Day 1.1:', sum(map(fuel, masses)))"
   ]
  },
  {
   "cell_type": "code",
   "execution_count": 29,
   "metadata": {},
   "outputs": [],
   "source": [
    "def total_fuel(mass):\n",
    "    total = 0\n",
    "    while mass // 3 > 2:\n",
    "        mass = mass // 3 - 2\n",
    "        total += mass\n",
    "    return total"
   ]
  },
  {
   "cell_type": "code",
   "execution_count": 30,
   "metadata": {},
   "outputs": [
    {
     "name": "stdout",
     "output_type": "stream",
     "text": [
      "Day 1.2: 4902650\n"
     ]
    }
   ],
   "source": [
    "print('Day 1.2:', sum(map(total_fuel, masses)))"
   ]
  },
  {
   "cell_type": "markdown",
   "metadata": {},
   "source": [
    "# Day 2: 1202 Program Alarm"
   ]
  },
  {
   "cell_type": "code",
   "execution_count": 27,
   "metadata": {},
   "outputs": [],
   "source": [
    "program = list(map(int, read_lines(2)[0].rstrip().split(',')))"
   ]
  },
  {
   "cell_type": "code",
   "execution_count": 28,
   "metadata": {},
   "outputs": [],
   "source": [
    "def run_program(noun, verb, p):\n",
    "    p = p[:]\n",
    "    p[1] = noun\n",
    "    p[2] = verb\n",
    "    pc = 0\n",
    "    while p[pc] != 99:\n",
    "        if p[pc] == 1:\n",
    "            p[p[pc + 3]] = p[p[pc + 1]] + p[p[pc + 2]]\n",
    "        elif p[pc] == 2:\n",
    "            p[p[pc + 3]] = p[p[pc + 1]] * p[p[pc + 2]]\n",
    "        pc += 4\n",
    "    return p[0]"
   ]
  },
  {
   "cell_type": "code",
   "execution_count": 38,
   "metadata": {},
   "outputs": [
    {
     "name": "stdout",
     "output_type": "stream",
     "text": [
      "Day 2.1: 3101844\n"
     ]
    }
   ],
   "source": [
    "print('Day 2.1:', run_program(12, 2, program))"
   ]
  },
  {
   "cell_type": "code",
   "execution_count": 48,
   "metadata": {},
   "outputs": [],
   "source": [
    "def find_output(p, output):\n",
    "    for noun, verb in product(range(0, 100), range(0, 100)):\n",
    "        if run_program(noun, verb, p[:]) == output:\n",
    "            return noun, verb"
   ]
  },
  {
   "cell_type": "code",
   "execution_count": 51,
   "metadata": {},
   "outputs": [
    {
     "name": "stdout",
     "output_type": "stream",
     "text": [
      "Day 2.2: 8478\n"
     ]
    }
   ],
   "source": [
    "noun, verb = find_output(program, 19690720)\n",
    "print('Day 2.2:', 100 * noun + verb)"
   ]
  },
  {
   "cell_type": "markdown",
   "metadata": {},
   "source": [
    "# Day 3: Crossed Wires"
   ]
  },
  {
   "cell_type": "code",
   "execution_count": 56,
   "metadata": {},
   "outputs": [],
   "source": [
    "wire_paths = [line.split(',') for line in read_lines(3)]"
   ]
  },
  {
   "cell_type": "code",
   "execution_count": 57,
   "metadata": {},
   "outputs": [],
   "source": [
    "def walk_path(path):\n",
    "    \n",
    "    DIRECTIONS_MOVE = {\n",
    "        'R' : -1,\n",
    "        'L' : 1,\n",
    "        'U' : 1j,\n",
    "        'D' : -1j\n",
    "    }\n",
    "    \n",
    "    start = 0j\n",
    "    for segment in path:\n",
    "        direction = segment[0]\n",
    "        nsteps = int(segment[1:])\n",
    "        for _ in range(nsteps):\n",
    "            start += DIRECTIONS_MOVE[direction]\n",
    "            yield start"
   ]
  },
  {
   "cell_type": "code",
   "execution_count": 58,
   "metadata": {},
   "outputs": [],
   "source": [
    "def manhattam(p1, p2):\n",
    "    diff = p1 - p2\n",
    "    return abs(diff.imag) + abs(diff.real)"
   ]
  },
  {
   "cell_type": "code",
   "execution_count": 59,
   "metadata": {},
   "outputs": [],
   "source": [
    "def intersections(path1, path2):\n",
    "    hits = defaultdict(set)\n",
    "    for c1 in path1:\n",
    "        hits[c1].add(1)\n",
    "    for c2 in path2:\n",
    "        hits[c2].add(2)\n",
    "    return [coordinate for coordinate, hit in hits.items() if len(hit) == 2]"
   ]
  },
  {
   "cell_type": "code",
   "execution_count": 60,
   "metadata": {},
   "outputs": [],
   "source": [
    "closest_intersection = min(manhattam(0j, i) for i in intersections(walk_path(wire_paths[0]), walk_path(wire_paths[1])))"
   ]
  },
  {
   "cell_type": "code",
   "execution_count": 61,
   "metadata": {},
   "outputs": [
    {
     "name": "stdout",
     "output_type": "stream",
     "text": [
      "Day 3.1: 806.0\n"
     ]
    }
   ],
   "source": [
    "print('Day 3.1:', closest_intersection)"
   ]
  },
  {
   "cell_type": "code",
   "execution_count": 69,
   "metadata": {},
   "outputs": [],
   "source": [
    "def intersection_steps(path1, path2):\n",
    "    hits = defaultdict(dict)\n",
    "    for i, c1 in enumerate(path1):\n",
    "        if 1 not in hits[c1]:\n",
    "            hits[c1][1] = i + 1\n",
    "    for i, c2 in enumerate(path2):\n",
    "        if 2 not in hits[c2]:\n",
    "            hits[c2][2] = i + 1\n",
    "    return [(hit[1], hit[2]) for hit in hits.values() if len(hit) == 2]"
   ]
  },
  {
   "cell_type": "code",
   "execution_count": 70,
   "metadata": {},
   "outputs": [],
   "source": [
    "closest_delay = min(steps1 + steps2 for steps1, steps2 in intersection_steps(walk_path(wire_paths[0]), walk_path(wire_paths[1])))"
   ]
  },
  {
   "cell_type": "code",
   "execution_count": 72,
   "metadata": {},
   "outputs": [
    {
     "name": "stdout",
     "output_type": "stream",
     "text": [
      "Day 3.2: 66076\n"
     ]
    }
   ],
   "source": [
    "print('Day 3.2:', closest_delay)"
   ]
  },
  {
   "cell_type": "markdown",
   "metadata": {},
   "source": [
    "# Day 4: Secure Container"
   ]
  },
  {
   "cell_type": "code",
   "execution_count": 1,
   "metadata": {},
   "outputs": [],
   "source": [
    "start, end = 359282, 820401"
   ]
  },
  {
   "cell_type": "code",
   "execution_count": 2,
   "metadata": {},
   "outputs": [],
   "source": [
    "def increasing(str_num):\n",
    "    for i in range(len(str_num) - 1):\n",
    "        if str_num[i] > str_num[i + 1]:\n",
    "            return False\n",
    "    return True"
   ]
  },
  {
   "cell_type": "code",
   "execution_count": 6,
   "metadata": {},
   "outputs": [],
   "source": [
    "def consecutives(str_num):\n",
    "    for i in range(len(str_num) - 1):\n",
    "        if str_num[i] == str_num[i + 1]:\n",
    "            return True\n",
    "    return False"
   ]
  },
  {
   "cell_type": "code",
   "execution_count": 10,
   "metadata": {},
   "outputs": [],
   "source": [
    "num_candidate_passwords = sum(increasing(str(num)) and consecutives(str(num)) for num in range(start, end + 1))"
   ]
  },
  {
   "cell_type": "code",
   "execution_count": 11,
   "metadata": {},
   "outputs": [
    {
     "name": "stdout",
     "output_type": "stream",
     "text": [
      "Day 4.1: 511\n"
     ]
    }
   ],
   "source": [
    "print('Day 4.1:', num_candidate_passwords)"
   ]
  },
  {
   "cell_type": "code",
   "execution_count": 21,
   "metadata": {},
   "outputs": [],
   "source": [
    "def consecutive_pair(str_num):\n",
    "    c = Counter(str_num)\n",
    "    return any(count == 2 for digit, count in c.items())"
   ]
  },
  {
   "cell_type": "code",
   "execution_count": 25,
   "metadata": {},
   "outputs": [],
   "source": [
    "num_candidate_passwords = sum(increasing(str(num)) and consecutive_pair(str(num)) for num in range(start, end + 1))"
   ]
  },
  {
   "cell_type": "code",
   "execution_count": 27,
   "metadata": {},
   "outputs": [
    {
     "name": "stdout",
     "output_type": "stream",
     "text": [
      "Day 4.2: 316\n"
     ]
    }
   ],
   "source": [
    "print('Day 4.2:', num_candidate_passwords)"
   ]
  },
  {
   "cell_type": "markdown",
   "metadata": {},
   "source": [
    "# Day 5: Sunny with a Chance of Asteroids"
   ]
  },
  {
   "cell_type": "code",
   "execution_count": 80,
   "metadata": {},
   "outputs": [],
   "source": [
    "program = list(map(int, read_lines(5)[0].split(',')))"
   ]
  },
  {
   "cell_type": "code",
   "execution_count": 81,
   "metadata": {},
   "outputs": [],
   "source": [
    "def decode_op(code):\n",
    "    return code % 100"
   ]
  },
  {
   "cell_type": "code",
   "execution_count": 82,
   "metadata": {},
   "outputs": [],
   "source": [
    "def load(mode, value, memory):\n",
    "    return memory[value] if mode == 0 else value"
   ]
  },
  {
   "cell_type": "code",
   "execution_count": 83,
   "metadata": {},
   "outputs": [],
   "source": [
    "def store(mode, value, memory, content):\n",
    "    if mode == 0:\n",
    "        memory[value] = content\n",
    "    else:\n",
    "        memory[memory[value]] = content"
   ]
  },
  {
   "cell_type": "code",
   "execution_count": 84,
   "metadata": {},
   "outputs": [],
   "source": [
    "def decode(op):\n",
    "    inst = op % 100\n",
    "    op //= 100\n",
    "    op1_mode = op % 10\n",
    "    op //= 10\n",
    "    op2_mode = op % 10\n",
    "    op //= 10\n",
    "    op3_mode = op\n",
    "    return (inst, op1_mode, op2_mode, op3_mode)"
   ]
  },
  {
   "cell_type": "code",
   "execution_count": 85,
   "metadata": {},
   "outputs": [],
   "source": [
    "def ops():\n",
    "    \n",
    "    def add(code, memory, pc_ref, in_channel, out_channel):\n",
    "        _, m1, m2, _ = decode(code)\n",
    "        result = load(m1, memory[pc_ref[0] + 1], memory) + load(m2, memory[pc_ref[0] + 2], memory)\n",
    "        memory[memory[pc_ref[0] + 3]] = result\n",
    "        pc_ref[0] += 4\n",
    "    \n",
    "    def mull(code, memory, pc_ref, in_channel, out_channel):\n",
    "        _, m1, m2, _ = decode(code)\n",
    "        result = load(m1, memory[pc_ref[0] + 1], memory) * load(m2, memory[pc_ref[0] + 2], memory)\n",
    "        memory[memory[pc_ref[0] + 3]] = result\n",
    "        pc_ref[0] += 4\n",
    "    \n",
    "    def in_p(code, memory, pc_ref, in_channel, out_channel):\n",
    "        memory[memory[pc_ref[0] + 1]] = in_channel.pop()\n",
    "        pc_ref[0] += 2\n",
    "    \n",
    "    def out_p(code, memory, pc_ref, in_channel, out_channel):\n",
    "        _, m1, _, _ = decode(code)\n",
    "        out_channel.append(load(m1, memory[pc_ref[0] + 1], memory))\n",
    "        pc_ref[0] += 2\n",
    "        \n",
    "    def jift(code, memory, pc_ref, in_channel, out_channel):\n",
    "        _, m1, m2, _ = decode(code)\n",
    "        a1 = load(m1, memory[pc_ref[0] + 1], memory)\n",
    "        pc = load(m2, memory[pc_ref[0] + 2], memory)\n",
    "        if a1 != 0:\n",
    "            pc_ref[0] = pc\n",
    "        else:\n",
    "            pc_ref[0] += 3\n",
    "        \n",
    "    def jiff(code, memory, pc_ref, in_channel, out_channel):\n",
    "        _, m1, m2, _ = decode(code)\n",
    "        a1 = load(m1, memory[pc_ref[0] + 1], memory)\n",
    "        pc = load(m2, memory[pc_ref[0] + 2], memory)\n",
    "        if a1 == 0:\n",
    "            pc_ref[0] = pc\n",
    "        else:\n",
    "            pc_ref[0] += 3\n",
    "    \n",
    "    def less(code, memory, pc_ref, in_channel, out_channel):\n",
    "        _, m1, m2, m3 = decode(code)\n",
    "        a1 = load(m1, memory[pc_ref[0] + 1], memory)\n",
    "        a2 = load(m2, memory[pc_ref[0] + 2], memory)\n",
    "        if a1 < a2:\n",
    "            store(m3, memory[pc_ref[0] + 3], memory, 1)\n",
    "        else:\n",
    "            store(m3, memory[pc_ref[0] + 3], memory, 0)\n",
    "        pc_ref[0] += 4\n",
    "    \n",
    "    def eq(code, memory, pc_ref, in_channel, out_channel):\n",
    "        _, m1, m2, m3 = decode(code)\n",
    "        a1 = load(m1, memory[pc_ref[0] + 1], memory)\n",
    "        a2 = load(m2, memory[pc_ref[0] + 2], memory)\n",
    "        if a1 == a2:\n",
    "            store(m3, memory[pc_ref[0] + 3], memory, 1)\n",
    "        else:\n",
    "            store(m3, memory[pc_ref[0] + 3], memory, 0)\n",
    "        pc_ref[0] += 4\n",
    "    \n",
    "    return [None, add, mull, in_p, out_p, jift, jiff, less, eq]"
   ]
  },
  {
   "cell_type": "code",
   "execution_count": 86,
   "metadata": {},
   "outputs": [],
   "source": [
    "def run_program(ops, program, in_c, out_c):\n",
    "    memory = program[:]\n",
    "    pc_ref = [0]\n",
    "    while True:\n",
    "        op = decode_op(memory[pc_ref[0]])\n",
    "        if op == 99:\n",
    "            break\n",
    "            \n",
    "        ops[op](memory[pc_ref[0]], memory, pc_ref, in_c, out_c)"
   ]
  },
  {
   "cell_type": "code",
   "execution_count": 87,
   "metadata": {},
   "outputs": [],
   "source": [
    "inc, outc = [1], []"
   ]
  },
  {
   "cell_type": "code",
   "execution_count": 88,
   "metadata": {},
   "outputs": [],
   "source": [
    "run_program(ops(), program, inc, outc)"
   ]
  },
  {
   "cell_type": "code",
   "execution_count": 90,
   "metadata": {},
   "outputs": [
    {
     "name": "stdout",
     "output_type": "stream",
     "text": [
      "Day 5.1 13294380\n"
     ]
    }
   ],
   "source": [
    "print('Day 5.1', outc[-1])"
   ]
  },
  {
   "cell_type": "code",
   "execution_count": 91,
   "metadata": {},
   "outputs": [],
   "source": [
    "inc, outc = [5], []"
   ]
  },
  {
   "cell_type": "code",
   "execution_count": 92,
   "metadata": {},
   "outputs": [],
   "source": [
    "run_program(ops(), program, inc, outc)"
   ]
  },
  {
   "cell_type": "code",
   "execution_count": 93,
   "metadata": {},
   "outputs": [
    {
     "name": "stdout",
     "output_type": "stream",
     "text": [
      "Day 5.2 11460760\n"
     ]
    }
   ],
   "source": [
    "print('Day 5.2', outc[-1])"
   ]
  },
  {
   "cell_type": "markdown",
   "metadata": {},
   "source": [
    "# Day 6: Universal Orbit Map"
   ]
  },
  {
   "cell_type": "code",
   "execution_count": 29,
   "metadata": {},
   "outputs": [],
   "source": [
    "orbits = [list(reversed(line.split(')'))) for line in read_lines(6)]"
   ]
  },
  {
   "cell_type": "code",
   "execution_count": 30,
   "metadata": {},
   "outputs": [],
   "source": [
    "graph = defaultdict(list)"
   ]
  },
  {
   "cell_type": "code",
   "execution_count": 31,
   "metadata": {},
   "outputs": [],
   "source": [
    "for orbiter, orbited in orbits:\n",
    "    graph[orbiter].append(orbited)"
   ]
  },
  {
   "cell_type": "code",
   "execution_count": 32,
   "metadata": {},
   "outputs": [],
   "source": [
    "def total_orbits(graph):\n",
    "    \n",
    "    orbit_cache = dict()\n",
    "    \n",
    "    def compute_orbits(key):\n",
    "        if key not in orbit_cache:\n",
    "            orbit_cache[key] = sum(compute_orbits(nxt) + 1 for nxt in graph[key])\n",
    "        return orbit_cache[key]\n",
    "    \n",
    "    for key in list(graph):\n",
    "        if key not in orbit_cache:\n",
    "            orbit_cache[key] = compute_orbits(key)\n",
    "    \n",
    "    return sum(orbit_cache.values())"
   ]
  },
  {
   "cell_type": "code",
   "execution_count": 34,
   "metadata": {},
   "outputs": [
    {
     "name": "stdout",
     "output_type": "stream",
     "text": [
      "Day 6.1 402879\n"
     ]
    }
   ],
   "source": [
    "print('Day 6.1', total_orbits(graph))"
   ]
  },
  {
   "cell_type": "code",
   "execution_count": 35,
   "metadata": {},
   "outputs": [],
   "source": [
    "bi_graph = defaultdict(list)"
   ]
  },
  {
   "cell_type": "code",
   "execution_count": 37,
   "metadata": {},
   "outputs": [],
   "source": [
    "for orbiter, orbited in orbits:\n",
    "    bi_graph[orbiter].append(orbited)\n",
    "    bi_graph[orbited].append(orbiter)"
   ]
  },
  {
   "cell_type": "code",
   "execution_count": 44,
   "metadata": {},
   "outputs": [],
   "source": [
    "start = bi_graph['SAN'][0]"
   ]
  },
  {
   "cell_type": "code",
   "execution_count": 45,
   "metadata": {},
   "outputs": [],
   "source": [
    "end = bi_graph['YOU'][0]"
   ]
  },
  {
   "cell_type": "code",
   "execution_count": 53,
   "metadata": {},
   "outputs": [],
   "source": [
    "def bfs(graph, start, end):\n",
    "    visited = set()\n",
    "    pending = deque([(start, 0)])\n",
    "    while len(pending) > 0:\n",
    "        key, level = pending.popleft()\n",
    "        \n",
    "        if key == end:\n",
    "            return level\n",
    "        \n",
    "        if key not in visited:\n",
    "            visited.add(key)\n",
    "            for nxt in graph[key]:\n",
    "                pending.append((nxt, level + 1))\n",
    "\n",
    "    return -1"
   ]
  },
  {
   "cell_type": "code",
   "execution_count": 55,
   "metadata": {},
   "outputs": [
    {
     "name": "stdout",
     "output_type": "stream",
     "text": [
      "Day 6.2 484\n"
     ]
    }
   ],
   "source": [
    "print('Day 6.2', bfs(bi_graph, start, end))"
   ]
  },
  {
   "cell_type": "code",
   "execution_count": null,
   "metadata": {},
   "outputs": [],
   "source": []
  }
 ],
 "metadata": {
  "kernelspec": {
   "display_name": "Python 3",
   "language": "python",
   "name": "python3"
  },
  "language_info": {
   "codemirror_mode": {
    "name": "ipython",
    "version": 3
   },
   "file_extension": ".py",
   "mimetype": "text/x-python",
   "name": "python",
   "nbconvert_exporter": "python",
   "pygments_lexer": "ipython3",
   "version": "3.7.1"
  }
 },
 "nbformat": 4,
 "nbformat_minor": 2
}
